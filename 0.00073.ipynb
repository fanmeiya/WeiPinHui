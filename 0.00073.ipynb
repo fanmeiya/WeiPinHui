{
 "cells": [
  {
   "cell_type": "markdown",
   "metadata": {},
   "source": [
    "![](https://bj.bcebos.com/v1/ai-studio-match/file/9930cd280fb24cd58323cc92ff8423677b7eb8d0fc3b44f89a721005509b3018?authorization=bce-auth-v1%2F5cfe9a5e1454405eb2a975c43eace6ec%2F2023-04-24T15%3A51%3A43Z%2F-1%2F%2F5c8caa3b924ac684af88e1f385661ff0e543262c5bd22684d23817472f6691ad)\n",
    "\n",
    "# 基于用户行为和商品属性的购买商品预估\n",
    "\n",
    "## 大赛背景\n",
    "第二届广州·琶洲算法大赛是由广州市人民政府主办，海珠区政府、琶洲实验室等多家单位联合承办的人工智能算法领域权威专业赛事。大赛围绕绿色能源、智慧交通、智能制造、电子商务、前沿科技等重点产业，邀请政府单位、科研平台和龙头企业提供应用场景，并设置数百万奖金、提供足额算力支持和丰厚的政策福利，面向全球招募优选算法和解决方案。\n",
    "\n",
    "赛事官网：https://ai.baidu.com/tech/competition/pazhou\n",
    "\n",
    "## 赛题介绍\n",
    "赛题名称：基于用户行为和商品属性的购买商品预估\n",
    "\n",
    "随着信息爆炸式增长，用户往往面临着大量的选择和信息过载，推荐算法可以为用户过滤和推荐最有价值的信息，降低信息过载的风险。在电商领域，推荐算法的核心是要解决人货匹配的问题，即为每个用户从海量的候选商品中，挑选出最为感兴趣的部分商品，构建用户的专属商店。本赛题任务为在真实的业务场景下，基于商品属性、用户在商品上的行为等数据，以转化率为目标构建个性化推荐模型。\n",
    "\n",
    "## 赛题描述\n",
    "本题目的技术方向为电商推荐领域的ctr/cvr预估。在电商领域，推荐算法的核心是要解决人货匹配的问题，即为每个用户从海量的候选商品中，挑选出最为感兴趣的部分商品，构建用户的专属商店。本题目使用唯品会真实业务数据，希望参赛队伍能够基于用户行为数据和商品的品牌品类信息，为用户推荐合适的商品。\n",
    "\n",
    "## 赛题任务\n",
    "在真实的业务场景下，以转化率为目标构建个性化推荐模型。\n",
    "\n",
    "具体定义如下数据：\n",
    "\n",
    "- UB-用户对商品的行为数据\n",
    "- GA-商品属性数据\n",
    "- U-用户子集\n",
    "- G-商品子集\n",
    "\n",
    "目标是通过GA和UB训练购买模型，给出U中用户在G中可能购买的商品。\n",
    "\n",
    "## 提交与评分\n",
    "参赛者需预测用户可能购买的goods_id，并提交一份csv文档作为结果，文档名为u2i.csv,并压缩为zip文件，选手输出结果包含两列，分别是user_id和goods_id。示例如下：\n",
    "\n",
    "```\n",
    "8da2ec07d8bf9bfe1e849cb7e7f25e5c, f6e4f43d18157cbdcdc653c6e35f01fb\n",
    "e873fcfe12d89fc9fe3f3c4425029bae, 305fa40cbcd4a898f92f00e5ca4ee317\n",
    "5c72cfe71eeb24883bb0a0aec656903b, a04fbf8f3f86d9e3c5fa8fa402b75afb\n",
    "8da2ec07d8bf9bfe1e849cb7e7f25e5c, a04fbf8f3f86d9e3c5fa8fa402b75afb\n",
    "```\n",
    "\n",
    "其中user_id只包括选手预测有购买行为的用户id，如认为用户fb26342610257f08fecf9b4b7c0d64b3无购买行为，则不需要包含该用户；当预测一个用户购买多个goods_id时，写作多行，如示例中的用户8da2ec07d8bf9bfe1e849cb7e7f25e5c\n",
    "\n",
    "PredictionSet为算法预测的购买数据集合，ReferenceSet为真实的答案购买数据集合。我们以F1值作为最终的唯一评测标准 训练集包括用户行为数据（UB）和商品属性数据(GA)两部分。其中用户行为数据来自部分用户29天内的浏览，收藏，加购，购买行为，涉及51602个用户的7791816条样本；商品数据包括部分商品的品牌品类信息，涉及3465608个商品。 测试集提供用户id数据（U），和作为候选集的商品id数据（G），参赛者需要为U中每个用户，从G中选择其在第30天可能购买的商品，注意用户在当日可能不存在购买行为。 其中数据G包含1367964个商品id，数据U在赛段1涉及用户数5000个，在赛段2涉及用户10000个。\n",
    "\n",
    "## 数据集介绍\n",
    "\n",
    "数据来自唯品会推荐业务的真实数据。\n",
    "\n",
    "a榜数据：https://aistudio.baidu.com/aistudio/datasetdetail/210802\n",
    "\n",
    "1.用户行为数据（UB）\n",
    "\n",
    "一行数据为一次用户请求下的行为。每行格式为：\n",
    "\n",
    "user_id, goods_id, is_clk, is_like, is_addcart, is_order, expose_start_time, dt\n",
    "\n",
    "| 字段              | 字段说明                     |\n",
    "| :---------------- | :--------------------------- |\n",
    "| user_id           | 用户id                       |\n",
    "| goods_id          | 商品id                       |\n",
    "| is_clk            | 本次请求下对该商品的点击次数 |\n",
    "| is_like           | 本次请求下对该商品的收藏次数 |\n",
    "| is_addcart        | 本次请求下对该商品的加购次数 |\n",
    "| is_order          | 本次请求下对该商品的购买次数 |\n",
    "| expose_start_time | 本次请求的时间戳             |\n",
    "| dt                | 日期                         |\n",
    "\n",
    "2.商品属性数据(GA)\n",
    "\n",
    "商品及其属性，每行格式为：\n",
    "\n",
    "goods_id, cat_id, brandsn\n",
    "\n",
    "| 字段     | 字段说明 |\n",
    "| :------- | :------- |\n",
    "| goods_id | 商品id   |\n",
    "| cat_id   | 品类id   |\n",
    "| brandsn  | 品牌id   |\n",
    "\n",
    "用户id数据（U）：每行为一个用户id\n",
    "\n",
    "商品id数据（G）：每行为一个商品id"
   ]
  },
  {
   "cell_type": "markdown",
   "metadata": {},
   "source": [
    "##  数据加载与分析"
   ]
  },
  {
   "cell_type": "markdown",
   "metadata": {},
   "source": [
    "### 加载数据集"
   ]
  },
  {
   "cell_type": "code",
   "execution_count": 35,
   "metadata": {
    "collapsed": false,
    "execution": {
     "iopub.execute_input": "2023-05-30T16:18:57.456214Z",
     "iopub.status.busy": "2023-05-30T16:18:57.455690Z",
     "iopub.status.idle": "2023-05-30T16:18:57.988455Z",
     "shell.execute_reply": "2023-05-30T16:18:57.987572Z",
     "shell.execute_reply.started": "2023-05-30T16:18:57.456179Z"
    },
    "jupyter": {
     "outputs_hidden": false
    },
    "scrolled": true
   },
   "outputs": [
    {
     "name": "stdout",
     "output_type": "stream",
     "text": [
      "总用量 440M\r\n",
      "-rwxrwxrwx 1 aistudio aistudio  38M 5月  30 23:53 测试集a.zip\r\n",
      "-rwxrwxrwx 1 aistudio aistudio 403M 5月  30 23:53 训练集.zip\r\n"
     ]
    }
   ],
   "source": [
    "!ls ./data/data210802/ -lh"
   ]
  },
  {
   "cell_type": "code",
   "execution_count": 36,
   "metadata": {
    "collapsed": false,
    "execution": {
     "iopub.execute_input": "2023-05-30T16:18:57.990680Z",
     "iopub.status.busy": "2023-05-30T16:18:57.990180Z",
     "iopub.status.idle": "2023-05-30T16:19:05.707752Z",
     "shell.execute_reply": "2023-05-30T16:19:05.706854Z",
     "shell.execute_reply.started": "2023-05-30T16:18:57.990650Z"
    },
    "jupyter": {
     "outputs_hidden": false
    },
    "scrolled": true
   },
   "outputs": [
    {
     "name": "stdout",
     "output_type": "stream",
     "text": [
      "replace 训练集/.DS_Store? [y]es, [n]o, [A]ll, [N]one, [r]ename: ^C\r\n",
      "replace 测试集a/.DS_Store? [y]es, [n]o, [A]ll, [N]one, [r]ename: ^C\r\n"
     ]
    }
   ],
   "source": [
    "!unzip ./data/data210802/训练集.zip > /dev/null\n",
    "!unzip ./data/data210802/测试集a.zip > /dev/null"
   ]
  },
  {
   "cell_type": "code",
   "execution_count": 14,
   "metadata": {
    "collapsed": false,
    "execution": {
     "iopub.execute_input": "2023-05-31T04:59:13.060688Z",
     "iopub.status.busy": "2023-05-31T04:59:13.060234Z",
     "iopub.status.idle": "2023-05-31T04:59:13.064849Z",
     "shell.execute_reply": "2023-05-31T04:59:13.063975Z",
     "shell.execute_reply.started": "2023-05-31T04:59:13.060658Z"
    },
    "jupyter": {
     "outputs_hidden": false
    },
    "scrolled": true
   },
   "outputs": [],
   "source": [
    "import pandas as pd\n",
    "import numpy as np\n",
    "import glob\n",
    "from sklearn.preprocessing import LabelEncoder"
   ]
  },
  {
   "cell_type": "code",
   "execution_count": 15,
   "metadata": {
    "collapsed": false,
    "execution": {
     "iopub.execute_input": "2023-05-31T04:59:14.627996Z",
     "iopub.status.busy": "2023-05-31T04:59:14.627522Z",
     "iopub.status.idle": "2023-05-31T04:59:33.001529Z",
     "shell.execute_reply": "2023-05-31T04:59:33.000534Z",
     "shell.execute_reply.started": "2023-05-31T04:59:14.627964Z"
    },
    "jupyter": {
     "outputs_hidden": false
    },
    "scrolled": true,
    "tags": []
   },
   "outputs": [],
   "source": [
    "train_goods = pd.concat([\n",
    "    pd.read_csv('./训练集/traindata_goodsid/part-00000', header=None, names=['goods_id', 'cat_id', 'brandsn']),\n",
    "    pd.read_csv('./训练集/traindata_goodsid/part-00001', header=None, names=['goods_id', 'cat_id', 'brandsn']),\n",
    "    pd.read_csv('./训练集/traindata_goodsid/part-00002', header=None, names=['goods_id', 'cat_id', 'brandsn'])\n",
    "], axis=0)\n",
    "\n",
    "train_user = pd.concat([\n",
    "    pd.read_csv(x, header=None, names=['user_id', 'goods_id', 'is_clk', 'is_like', 'is_addcart', 'is_order', 'expose_start_time', 'dt'], nrows=None)\n",
    "    for x in glob.glob('./训练集/traindata_user/part*')\n",
    "], axis=0)"
   ]
  },
  {
   "cell_type": "code",
   "execution_count": 16,
   "metadata": {
    "collapsed": false,
    "execution": {
     "iopub.execute_input": "2023-05-31T04:59:37.589429Z",
     "iopub.status.busy": "2023-05-31T04:59:37.589036Z",
     "iopub.status.idle": "2023-05-31T04:59:38.710677Z",
     "shell.execute_reply": "2023-05-31T04:59:38.709999Z",
     "shell.execute_reply.started": "2023-05-31T04:59:37.589402Z"
    },
    "jupyter": {
     "outputs_hidden": false
    },
    "scrolled": true
   },
   "outputs": [],
   "source": [
    "testa_goods = pd.concat([\n",
    "    pd.read_csv('./测试集a/predict_goods_id/part-00000', header=None, names=['goods_id', 'cat_id', 'brandsn']),\n",
    "    pd.read_csv('./测试集a/predict_goods_id/part-00001', header=None, names=['goods_id', 'cat_id', 'brandsn']),\n",
    "], axis=0)\n",
    "\n",
    "testa_user = pd.read_excel('./测试集a/a榜需要预测的uid_5000.xlsx')"
   ]
  },
  {
   "cell_type": "code",
   "execution_count": 17,
   "metadata": {
    "collapsed": false,
    "execution": {
     "iopub.execute_input": "2023-05-31T04:59:40.567217Z",
     "iopub.status.busy": "2023-05-31T04:59:40.566955Z",
     "iopub.status.idle": "2023-05-31T05:00:05.376621Z",
     "shell.execute_reply": "2023-05-31T05:00:05.375893Z",
     "shell.execute_reply.started": "2023-05-31T04:59:40.567197Z"
    },
    "jupyter": {
     "outputs_hidden": false
    },
    "scrolled": true
   },
   "outputs": [
    {
     "data": {
      "text/plain": [
       "LabelEncoder()"
      ]
     },
     "execution_count": 17,
     "metadata": {},
     "output_type": "execute_result"
    }
   ],
   "source": [
    "user_encode = LabelEncoder()\n",
    "user_encode.fit(list(train_user['user_id']))\n",
    "\n",
    "goods_encode = LabelEncoder()\n",
    "goods_encode.fit(list(train_user['goods_id']) + list(train_goods['goods_id']))"
   ]
  },
  {
   "cell_type": "code",
   "execution_count": null,
   "metadata": {
    "collapsed": false,
    "execution": {
     "iopub.status.busy": "2023-05-30T16:19:06.548590Z",
     "iopub.status.idle": "2023-05-30T16:19:06.548914Z",
     "shell.execute_reply": "2023-05-30T16:19:06.548788Z",
     "shell.execute_reply.started": "2023-05-30T16:19:06.548774Z"
    },
    "jupyter": {
     "outputs_hidden": false
    },
    "scrolled": true
   },
   "outputs": [],
   "source": [
    "train_goods.shape, train_user.shape"
   ]
  },
  {
   "cell_type": "code",
   "execution_count": null,
   "metadata": {
    "collapsed": false,
    "execution": {
     "iopub.status.busy": "2023-05-30T16:19:06.549774Z",
     "iopub.status.idle": "2023-05-30T16:19:06.550085Z",
     "shell.execute_reply": "2023-05-30T16:19:06.549961Z",
     "shell.execute_reply.started": "2023-05-30T16:19:06.549948Z"
    },
    "jupyter": {
     "outputs_hidden": false
    },
    "scrolled": true
   },
   "outputs": [],
   "source": [
    "testa_goods.shape, testa_user.shape"
   ]
  },
  {
   "cell_type": "code",
   "execution_count": null,
   "metadata": {
    "collapsed": false,
    "execution": {
     "iopub.status.busy": "2023-05-30T16:19:06.550769Z",
     "iopub.status.idle": "2023-05-30T16:19:06.551094Z",
     "shell.execute_reply": "2023-05-30T16:19:06.550972Z",
     "shell.execute_reply.started": "2023-05-30T16:19:06.550959Z"
    },
    "jupyter": {
     "outputs_hidden": false
    },
    "scrolled": true
   },
   "outputs": [],
   "source": [
    "train_goods.head()"
   ]
  },
  {
   "cell_type": "code",
   "execution_count": null,
   "metadata": {
    "collapsed": false,
    "execution": {
     "iopub.status.busy": "2023-05-30T16:19:06.551841Z",
     "iopub.status.idle": "2023-05-30T16:19:06.552194Z",
     "shell.execute_reply": "2023-05-30T16:19:06.552069Z",
     "shell.execute_reply.started": "2023-05-30T16:19:06.552055Z"
    },
    "jupyter": {
     "outputs_hidden": false
    },
    "scrolled": true
   },
   "outputs": [],
   "source": [
    "train_user.head()"
   ]
  },
  {
   "cell_type": "code",
   "execution_count": null,
   "metadata": {
    "collapsed": false,
    "execution": {
     "iopub.status.busy": "2023-05-30T16:19:06.553007Z",
     "iopub.status.idle": "2023-05-30T16:19:06.553262Z",
     "shell.execute_reply": "2023-05-30T16:19:06.553142Z",
     "shell.execute_reply.started": "2023-05-30T16:19:06.553131Z"
    },
    "jupyter": {
     "outputs_hidden": false
    },
    "scrolled": true
   },
   "outputs": [],
   "source": [
    "np.mean(testa_user['user_id'].isin(train_user['user_id'])), np.mean(testa_goods['goods_id'].isin(train_goods['goods_id']))"
   ]
  },
  {
   "cell_type": "markdown",
   "metadata": {},
   "source": [
    "### 数据分析"
   ]
  },
  {
   "cell_type": "code",
   "execution_count": null,
   "metadata": {
    "collapsed": false,
    "execution": {
     "iopub.status.busy": "2023-05-30T16:19:06.554072Z",
     "iopub.status.idle": "2023-05-30T16:19:06.554339Z",
     "shell.execute_reply": "2023-05-30T16:19:06.554216Z",
     "shell.execute_reply.started": "2023-05-30T16:19:06.554203Z"
    },
    "jupyter": {
     "outputs_hidden": false
    },
    "scrolled": true
   },
   "outputs": [],
   "source": [
    "train_user['user_id'].nunique(), train_user['goods_id'].nunique()"
   ]
  },
  {
   "cell_type": "code",
   "execution_count": null,
   "metadata": {
    "collapsed": false,
    "execution": {
     "iopub.status.busy": "2023-05-30T16:19:06.555172Z",
     "iopub.status.idle": "2023-05-30T16:19:06.555432Z",
     "shell.execute_reply": "2023-05-30T16:19:06.555310Z",
     "shell.execute_reply.started": "2023-05-30T16:19:06.555298Z"
    },
    "jupyter": {
     "outputs_hidden": false
    },
    "scrolled": true
   },
   "outputs": [],
   "source": [
    "train_user.describe().round(2)"
   ]
  },
  {
   "cell_type": "code",
   "execution_count": null,
   "metadata": {
    "collapsed": false,
    "execution": {
     "iopub.status.busy": "2023-05-30T16:19:06.556215Z",
     "iopub.status.idle": "2023-05-30T16:19:06.556473Z",
     "shell.execute_reply": "2023-05-30T16:19:06.556352Z",
     "shell.execute_reply.started": "2023-05-30T16:19:06.556341Z"
    },
    "jupyter": {
     "outputs_hidden": false
    },
    "scrolled": true
   },
   "outputs": [],
   "source": [
    "train_user['user_id'].value_counts()"
   ]
  },
  {
   "cell_type": "code",
   "execution_count": null,
   "metadata": {
    "collapsed": false,
    "execution": {
     "iopub.status.busy": "2023-05-30T16:19:06.557163Z",
     "iopub.status.idle": "2023-05-30T16:19:06.557556Z",
     "shell.execute_reply": "2023-05-30T16:19:06.557428Z",
     "shell.execute_reply.started": "2023-05-30T16:19:06.557415Z"
    },
    "jupyter": {
     "outputs_hidden": false
    },
    "scrolled": true
   },
   "outputs": [],
   "source": [
    "train_user.loc[(train_user['user_id'] == '71e1a59e90bc7174cf6349761217c627') & (train_user['goods_id'] == '47382b8a57e5b73bdba51de5c230fded')]"
   ]
  },
  {
   "cell_type": "code",
   "execution_count": 18,
   "metadata": {
    "execution": {
     "iopub.execute_input": "2023-05-31T05:00:06.832162Z",
     "iopub.status.busy": "2023-05-31T05:00:06.831801Z",
     "iopub.status.idle": "2023-05-31T05:00:21.227102Z",
     "shell.execute_reply": "2023-05-31T05:00:21.226368Z",
     "shell.execute_reply.started": "2023-05-31T05:00:06.832138Z"
    },
    "scrolled": true,
    "tags": []
   },
   "outputs": [],
   "source": [
    "train_data = pd.merge(train_user.iloc[:], train_goods.iloc[:], on='goods_id')"
   ]
  },
  {
   "cell_type": "code",
   "execution_count": null,
   "metadata": {
    "collapsed": false,
    "execution": {
     "iopub.status.busy": "2023-05-30T16:19:06.559980Z",
     "iopub.status.idle": "2023-05-30T16:19:06.560239Z",
     "shell.execute_reply": "2023-05-30T16:19:06.560119Z",
     "shell.execute_reply.started": "2023-05-30T16:19:06.560107Z"
    },
    "jupyter": {
     "outputs_hidden": false
    },
    "scrolled": true
   },
   "outputs": [],
   "source": [
    "train_data['cat_id'].nunique(), train_data['brandsn'].nunique()"
   ]
  },
  {
   "cell_type": "markdown",
   "metadata": {},
   "source": [
    "## 模型搭建"
   ]
  },
  {
   "cell_type": "code",
   "execution_count": 19,
   "metadata": {
    "execution": {
     "iopub.execute_input": "2023-05-31T05:00:42.916921Z",
     "iopub.status.busy": "2023-05-31T05:00:42.916536Z",
     "iopub.status.idle": "2023-05-31T05:01:13.220520Z",
     "shell.execute_reply": "2023-05-31T05:01:13.219793Z",
     "shell.execute_reply.started": "2023-05-31T05:00:42.916897Z"
    },
    "scrolled": true
   },
   "outputs": [
    {
     "data": {
      "text/html": [
       "<div>\n",
       "<style scoped>\n",
       "    .dataframe tbody tr th:only-of-type {\n",
       "        vertical-align: middle;\n",
       "    }\n",
       "\n",
       "    .dataframe tbody tr th {\n",
       "        vertical-align: top;\n",
       "    }\n",
       "\n",
       "    .dataframe thead th {\n",
       "        text-align: right;\n",
       "    }\n",
       "</style>\n",
       "<table border=\"1\" class=\"dataframe\">\n",
       "  <thead>\n",
       "    <tr style=\"text-align: right;\">\n",
       "      <th></th>\n",
       "      <th>user_id</th>\n",
       "      <th>goods_id</th>\n",
       "      <th>is_clk_sum</th>\n",
       "      <th>is_like_sum</th>\n",
       "      <th>is_addcart_sum</th>\n",
       "      <th>is_order_sum</th>\n",
       "    </tr>\n",
       "  </thead>\n",
       "  <tbody>\n",
       "    <tr>\n",
       "      <th>0</th>\n",
       "      <td>0001d0972cc56e776c676d036f3d1a60</td>\n",
       "      <td>000ee6621e5dc775c8e75f758030297c</td>\n",
       "      <td>2</td>\n",
       "      <td>0</td>\n",
       "      <td>0</td>\n",
       "      <td>0</td>\n",
       "    </tr>\n",
       "    <tr>\n",
       "      <th>1</th>\n",
       "      <td>0001d0972cc56e776c676d036f3d1a60</td>\n",
       "      <td>007738408f51e83d3f56897b6b8ecd06</td>\n",
       "      <td>1</td>\n",
       "      <td>0</td>\n",
       "      <td>0</td>\n",
       "      <td>0</td>\n",
       "    </tr>\n",
       "    <tr>\n",
       "      <th>2</th>\n",
       "      <td>0001d0972cc56e776c676d036f3d1a60</td>\n",
       "      <td>02cb92bc89b6264f405b3f15b7b76c9f</td>\n",
       "      <td>1</td>\n",
       "      <td>0</td>\n",
       "      <td>0</td>\n",
       "      <td>0</td>\n",
       "    </tr>\n",
       "    <tr>\n",
       "      <th>3</th>\n",
       "      <td>0001d0972cc56e776c676d036f3d1a60</td>\n",
       "      <td>044e82d678d8c12be0a08ab0c5bde583</td>\n",
       "      <td>1</td>\n",
       "      <td>0</td>\n",
       "      <td>0</td>\n",
       "      <td>0</td>\n",
       "    </tr>\n",
       "    <tr>\n",
       "      <th>4</th>\n",
       "      <td>0001d0972cc56e776c676d036f3d1a60</td>\n",
       "      <td>062c86a124d95036a0910e895efd0eeb</td>\n",
       "      <td>1</td>\n",
       "      <td>0</td>\n",
       "      <td>0</td>\n",
       "      <td>0</td>\n",
       "    </tr>\n",
       "    <tr>\n",
       "      <th>...</th>\n",
       "      <td>...</td>\n",
       "      <td>...</td>\n",
       "      <td>...</td>\n",
       "      <td>...</td>\n",
       "      <td>...</td>\n",
       "      <td>...</td>\n",
       "    </tr>\n",
       "    <tr>\n",
       "      <th>6809676</th>\n",
       "      <td>ffffb2aad8fd839b6f152ae9126a05ff</td>\n",
       "      <td>fd6907060fb1e080f5a996347d9d2020</td>\n",
       "      <td>1</td>\n",
       "      <td>0</td>\n",
       "      <td>0</td>\n",
       "      <td>0</td>\n",
       "    </tr>\n",
       "    <tr>\n",
       "      <th>6809677</th>\n",
       "      <td>ffffb2aad8fd839b6f152ae9126a05ff</td>\n",
       "      <td>fef0e42ef8f326a7691053f4a4de000b</td>\n",
       "      <td>1</td>\n",
       "      <td>0</td>\n",
       "      <td>0</td>\n",
       "      <td>0</td>\n",
       "    </tr>\n",
       "    <tr>\n",
       "      <th>6809678</th>\n",
       "      <td>ffffb2aad8fd839b6f152ae9126a05ff</td>\n",
       "      <td>fefb7378e47a48cf9ee25ebee5d478ff</td>\n",
       "      <td>1</td>\n",
       "      <td>0</td>\n",
       "      <td>0</td>\n",
       "      <td>0</td>\n",
       "    </tr>\n",
       "    <tr>\n",
       "      <th>6809679</th>\n",
       "      <td>ffffb2aad8fd839b6f152ae9126a05ff</td>\n",
       "      <td>ff8b7d565556bcfced37258d69ce6459</td>\n",
       "      <td>2</td>\n",
       "      <td>0</td>\n",
       "      <td>0</td>\n",
       "      <td>0</td>\n",
       "    </tr>\n",
       "    <tr>\n",
       "      <th>6809680</th>\n",
       "      <td>ffffb2aad8fd839b6f152ae9126a05ff</td>\n",
       "      <td>ff96f17de1a5630cbb0d2da2ffe8f454</td>\n",
       "      <td>1</td>\n",
       "      <td>0</td>\n",
       "      <td>0</td>\n",
       "      <td>0</td>\n",
       "    </tr>\n",
       "  </tbody>\n",
       "</table>\n",
       "<p>6809681 rows × 6 columns</p>\n",
       "</div>"
      ],
      "text/plain": [
       "                                  user_id                          goods_id  \\\n",
       "0        0001d0972cc56e776c676d036f3d1a60  000ee6621e5dc775c8e75f758030297c   \n",
       "1        0001d0972cc56e776c676d036f3d1a60  007738408f51e83d3f56897b6b8ecd06   \n",
       "2        0001d0972cc56e776c676d036f3d1a60  02cb92bc89b6264f405b3f15b7b76c9f   \n",
       "3        0001d0972cc56e776c676d036f3d1a60  044e82d678d8c12be0a08ab0c5bde583   \n",
       "4        0001d0972cc56e776c676d036f3d1a60  062c86a124d95036a0910e895efd0eeb   \n",
       "...                                   ...                               ...   \n",
       "6809676  ffffb2aad8fd839b6f152ae9126a05ff  fd6907060fb1e080f5a996347d9d2020   \n",
       "6809677  ffffb2aad8fd839b6f152ae9126a05ff  fef0e42ef8f326a7691053f4a4de000b   \n",
       "6809678  ffffb2aad8fd839b6f152ae9126a05ff  fefb7378e47a48cf9ee25ebee5d478ff   \n",
       "6809679  ffffb2aad8fd839b6f152ae9126a05ff  ff8b7d565556bcfced37258d69ce6459   \n",
       "6809680  ffffb2aad8fd839b6f152ae9126a05ff  ff96f17de1a5630cbb0d2da2ffe8f454   \n",
       "\n",
       "         is_clk_sum  is_like_sum  is_addcart_sum  is_order_sum  \n",
       "0                 2            0               0             0  \n",
       "1                 1            0               0             0  \n",
       "2                 1            0               0             0  \n",
       "3                 1            0               0             0  \n",
       "4                 1            0               0             0  \n",
       "...             ...          ...             ...           ...  \n",
       "6809676           1            0               0             0  \n",
       "6809677           1            0               0             0  \n",
       "6809678           1            0               0             0  \n",
       "6809679           2            0               0             0  \n",
       "6809680           1            0               0             0  \n",
       "\n",
       "[6809681 rows x 6 columns]"
      ]
     },
     "execution_count": 19,
     "metadata": {},
     "output_type": "execute_result"
    }
   ],
   "source": [
    "train_agg_feat = train_data.iloc[:].groupby(['user_id','goods_id']).agg({\n",
    "    'is_clk': ['sum'],\n",
    "    'is_like': ['sum'],\n",
    "    'is_addcart': ['sum'],\n",
    "    'is_order': ['sum'],\n",
    "})\n",
    "train_agg_feat = train_agg_feat.reset_index()\n",
    "train_agg_feat.columns = [\n",
    "    'user_id',\n",
    "    'goods_id',\n",
    "    'is_clk_sum',\n",
    "    'is_like_sum',\n",
    "    'is_addcart_sum',\n",
    "    'is_order_sum',\n",
    " ]\n",
    "train_agg_feat"
   ]
  },
  {
   "cell_type": "code",
   "execution_count": 6,
   "metadata": {
    "execution": {
     "iopub.execute_input": "2023-05-31T04:57:54.226166Z",
     "iopub.status.busy": "2023-05-31T04:57:54.225772Z",
     "iopub.status.idle": "2023-05-31T04:57:54.920423Z",
     "shell.execute_reply": "2023-05-31T04:57:54.919775Z",
     "shell.execute_reply.started": "2023-05-31T04:57:54.226141Z"
    },
    "scrolled": true,
    "tags": []
   },
   "outputs": [],
   "source": [
    "postive_user =  train_agg_feat.groupby('user_id').agg({\n",
    "    'is_order_sum': 'sum'\n",
    "    })\n",
    "postive_user =postive_user[postive_user['is_order_sum']>0]\n",
    "postive_user = postive_user.reset_index()\n",
    "postive_user.columns=[\n",
    "    'user_id',\n",
    "    'order_sum',\n",
    "]"
   ]
  },
  {
   "cell_type": "code",
   "execution_count": null,
   "metadata": {
    "collapsed": false,
    "execution": {
     "iopub.status.busy": "2023-05-30T16:19:06.562347Z",
     "iopub.status.idle": "2023-05-30T16:19:06.562649Z",
     "shell.execute_reply": "2023-05-30T16:19:06.562529Z",
     "shell.execute_reply.started": "2023-05-30T16:19:06.562516Z"
    },
    "jupyter": {
     "outputs_hidden": false
    },
    "scrolled": true
   },
   "outputs": [],
   "source": [
    "# train_agg_feat = train_data.iloc[:].groupby(['user_id', 'goods_id']).agg({\n",
    "#     'is_clk': ['sum', 'max'],\n",
    "#     'is_like': ['sum', 'max'],\n",
    "#     'is_addcart': ['sum', 'max'],\n",
    "#     'is_order': ['sum', 'max'],\n",
    "# })"
   ]
  },
  {
   "cell_type": "code",
   "execution_count": null,
   "metadata": {
    "collapsed": false,
    "execution": {
     "iopub.status.busy": "2023-05-30T16:19:06.563318Z",
     "iopub.status.idle": "2023-05-30T16:19:06.563572Z",
     "shell.execute_reply": "2023-05-30T16:19:06.563454Z",
     "shell.execute_reply.started": "2023-05-30T16:19:06.563443Z"
    },
    "jupyter": {
     "outputs_hidden": false
    },
    "scrolled": true
   },
   "outputs": [],
   "source": [
    "# train_agg_feat = train_agg_feat.reset_index()\n",
    "# train_agg_feat.columns = [\n",
    "#     'user_id',\n",
    "#     'goods_id',\n",
    "#     'is_clk_sum',\n",
    "#     'is_clk_max',\n",
    "#     'is_like_sum',\n",
    "#     'is_like_max',\n",
    "#     'is_addcart_sum',\n",
    "#     'is_addcart_max',\n",
    "#     'is_order_sum',\n",
    "#     'is_order_max'\n",
    "#  ]"
   ]
  },
  {
   "cell_type": "code",
   "execution_count": 20,
   "metadata": {
    "collapsed": false,
    "execution": {
     "iopub.execute_input": "2023-05-31T05:01:18.984810Z",
     "iopub.status.busy": "2023-05-31T05:01:18.984298Z",
     "iopub.status.idle": "2023-05-31T05:01:25.438483Z",
     "shell.execute_reply": "2023-05-31T05:01:25.437799Z",
     "shell.execute_reply.started": "2023-05-31T05:01:18.984770Z"
    },
    "jupyter": {
     "outputs_hidden": false
    },
    "scrolled": true,
    "tags": []
   },
   "outputs": [],
   "source": [
    "test_goods_id_agg = train_agg_feat.groupby('goods_id').agg({\n",
    "    'is_clk_sum': 'sum',\n",
    "    'is_order_sum': 'sum'\n",
    "})"
   ]
  },
  {
   "cell_type": "code",
   "execution_count": 21,
   "metadata": {
    "execution": {
     "iopub.execute_input": "2023-05-31T05:01:28.525380Z",
     "iopub.status.busy": "2023-05-31T05:01:28.524993Z",
     "iopub.status.idle": "2023-05-31T05:01:30.542212Z",
     "shell.execute_reply": "2023-05-31T05:01:30.541521Z",
     "shell.execute_reply.started": "2023-05-31T05:01:28.525355Z"
    },
    "scrolled": true
   },
   "outputs": [],
   "source": [
    "test_goods_id_agg = test_goods_id_agg[test_goods_id_agg['is_clk_sum'] > 0]\n",
    "test_goods_id_agg = test_goods_id_agg[test_goods_id_agg['is_order_sum'] > 0]\n",
    "test_valid_goods = test_goods_id_agg.index\n",
    "train_agg_feat = train_agg_feat[train_agg_feat['user_id'].isin(postive_user['user_id'])]"
   ]
  },
  {
   "cell_type": "code",
   "execution_count": 22,
   "metadata": {
    "execution": {
     "iopub.execute_input": "2023-05-31T05:01:31.976719Z",
     "iopub.status.busy": "2023-05-31T05:01:31.976416Z",
     "iopub.status.idle": "2023-05-31T05:01:33.079624Z",
     "shell.execute_reply": "2023-05-31T05:01:33.078950Z",
     "shell.execute_reply.started": "2023-05-31T05:01:31.976698Z"
    },
    "scrolled": true
   },
   "outputs": [],
   "source": [
    "train_agg_feat.eval('clk_turn_rate = (is_order_sum/is_clk_sum)',inplace=True)\n",
    "train_agg_feat.eval('like_turn_rate = (is_order_sum/is_like_sum)',inplace=True)\n",
    "train_agg_feat.eval('addcart_turn_rate = (is_order_sum/is_addcart_sum)',inplace=True)\n",
    "train_agg_feat = train_agg_feat.round({'clk_turn_rate': 2, 'like_turn_rate':2,'addcart_turn_rate':2})\n",
    "\n",
    "train_agg_feat.replace(np.inf, 0,inplace=True) #替换inf为0"
   ]
  },
  {
   "cell_type": "code",
   "execution_count": 23,
   "metadata": {
    "execution": {
     "iopub.execute_input": "2023-05-31T05:01:34.720805Z",
     "iopub.status.busy": "2023-05-31T05:01:34.720453Z",
     "iopub.status.idle": "2023-05-31T05:01:35.822267Z",
     "shell.execute_reply": "2023-05-31T05:01:35.821588Z",
     "shell.execute_reply.started": "2023-05-31T05:01:34.720781Z"
    },
    "scrolled": true
   },
   "outputs": [],
   "source": [
    "train_agg_feat.replace(np.nan, 0,inplace=True) #替换inf为0"
   ]
  },
  {
   "cell_type": "code",
   "execution_count": null,
   "metadata": {
    "execution": {
     "iopub.status.busy": "2023-05-30T16:19:06.567941Z",
     "iopub.status.idle": "2023-05-30T16:19:06.568194Z",
     "shell.execute_reply": "2023-05-30T16:19:06.568076Z",
     "shell.execute_reply.started": "2023-05-30T16:19:06.568065Z"
    },
    "scrolled": true
   },
   "outputs": [],
   "source": [
    "# train_feat_downsmaple = train_agg_feat"
   ]
  },
  {
   "cell_type": "code",
   "execution_count": 24,
   "metadata": {
    "collapsed": false,
    "execution": {
     "iopub.execute_input": "2023-05-31T05:01:36.698715Z",
     "iopub.status.busy": "2023-05-31T05:01:36.698325Z",
     "iopub.status.idle": "2023-05-31T05:01:39.011974Z",
     "shell.execute_reply": "2023-05-31T05:01:39.011269Z",
     "shell.execute_reply.started": "2023-05-31T05:01:36.698688Z"
    },
    "jupyter": {
     "outputs_hidden": false
    },
    "scrolled": true,
    "tags": []
   },
   "outputs": [],
   "source": [
    "train_feat_downsmaple = pd.concat([\n",
    "    train_agg_feat[train_agg_feat['is_order_sum'] !=0],\n",
    "    train_agg_feat[train_agg_feat['is_order_sum'] ==0].sample(int(0.5 * len(train_agg_feat)))\n",
    "], axis=0)"
   ]
  },
  {
   "cell_type": "code",
   "execution_count": null,
   "metadata": {
    "collapsed": false,
    "execution": {
     "iopub.status.busy": "2023-05-30T16:19:06.570248Z",
     "iopub.status.idle": "2023-05-30T16:19:06.570551Z",
     "shell.execute_reply": "2023-05-30T16:19:06.570430Z",
     "shell.execute_reply.started": "2023-05-30T16:19:06.570417Z"
    },
    "jupyter": {
     "outputs_hidden": false
    },
    "scrolled": true
   },
   "outputs": [],
   "source": [
    "train_feat_downsmaple"
   ]
  },
  {
   "cell_type": "code",
   "execution_count": null,
   "metadata": {
    "collapsed": false,
    "execution": {
     "iopub.status.busy": "2023-05-30T16:19:06.571327Z",
     "iopub.status.idle": "2023-05-30T16:19:06.571580Z",
     "shell.execute_reply": "2023-05-30T16:19:06.571463Z",
     "shell.execute_reply.started": "2023-05-30T16:19:06.571452Z"
    },
    "jupyter": {
     "outputs_hidden": false
    },
    "scrolled": true
   },
   "outputs": [],
   "source": [
    "# 1 - train_feat_downsmaple['is_order_max'].mean()"
   ]
  },
  {
   "cell_type": "code",
   "execution_count": 12,
   "metadata": {
    "collapsed": false,
    "execution": {
     "iopub.execute_input": "2023-05-31T04:58:53.406363Z",
     "iopub.status.busy": "2023-05-31T04:58:53.405964Z",
     "iopub.status.idle": "2023-05-31T04:58:53.410732Z",
     "shell.execute_reply": "2023-05-31T04:58:53.410200Z",
     "shell.execute_reply.started": "2023-05-31T04:58:53.406337Z"
    },
    "jupyter": {
     "outputs_hidden": false
    },
    "scrolled": true
   },
   "outputs": [
    {
     "data": {
      "text/plain": [
       "(2282431, 9)"
      ]
     },
     "execution_count": 12,
     "metadata": {},
     "output_type": "execute_result"
    }
   ],
   "source": [
    "train_feat_downsmaple.shape"
   ]
  },
  {
   "cell_type": "code",
   "execution_count": 25,
   "metadata": {
    "collapsed": false,
    "execution": {
     "iopub.execute_input": "2023-05-31T05:01:40.707512Z",
     "iopub.status.busy": "2023-05-31T05:01:40.707266Z",
     "iopub.status.idle": "2023-05-31T05:01:49.414739Z",
     "shell.execute_reply": "2023-05-31T05:01:49.414046Z",
     "shell.execute_reply.started": "2023-05-31T05:01:40.707492Z"
    },
    "jupyter": {
     "outputs_hidden": false
    },
    "scrolled": true
   },
   "outputs": [],
   "source": [
    "train_feat_downsmaple['user_id'] = user_encode.transform(train_feat_downsmaple['user_id'])\n",
    "train_feat_downsmaple['goods_id'] = goods_encode.transform(train_feat_downsmaple['goods_id'])"
   ]
  },
  {
   "cell_type": "code",
   "execution_count": 26,
   "metadata": {
    "execution": {
     "iopub.execute_input": "2023-05-31T05:01:51.402910Z",
     "iopub.status.busy": "2023-05-31T05:01:51.402620Z",
     "iopub.status.idle": "2023-05-31T05:01:53.504354Z",
     "shell.execute_reply": "2023-05-31T05:01:53.503539Z",
     "shell.execute_reply.started": "2023-05-31T05:01:51.402890Z"
    },
    "scrolled": true
   },
   "outputs": [],
   "source": [
    "import paddle\n",
    "import paddle.nn as nn\n",
    "from paddle.io import Dataset\n",
    "\n",
    "class SelfDefinedDataset(Dataset):\n",
    "    def __init__(self, df, mode = 'train'):\n",
    "        super(SelfDefinedDataset, self).__init__()\n",
    "        self.df = df\n",
    "        self.mode = mode\n",
    "\n",
    "    def __getitem__(self, idx):\n",
    "        if self.mode == 'predict':\n",
    "            return (\n",
    "                self.df['user_id'].iloc[idx], \n",
    "                self.df['goods_id'].iloc[idx], \n",
    "                self.df['clk_turn_rate'].iloc[idx], self.df['like_turn_rate'].iloc[idx], \n",
    "                self.df['addcart_turn_rate'].iloc[idx],\n",
    "            )\n",
    "        else:\n",
    "            return (\n",
    "                self.df['user_id'].iloc[idx], \n",
    "                self.df['goods_id'].iloc[idx], \n",
    "                self.df['clk_turn_rate'].iloc[idx], self.df['like_turn_rate'].iloc[idx], \n",
    "                self.df['addcart_turn_rate'].iloc[idx],\n",
    "                self.df['is_order_sum'].iloc[idx]\n",
    "            )\n",
    "\n",
    "    def __len__(self):\n",
    "        return len(self.df)"
   ]
  },
  {
   "cell_type": "code",
   "execution_count": null,
   "metadata": {
    "collapsed": false,
    "execution": {
     "iopub.status.busy": "2023-05-30T16:19:06.576037Z",
     "iopub.status.idle": "2023-05-30T16:19:06.576349Z",
     "shell.execute_reply": "2023-05-30T16:19:06.576224Z",
     "shell.execute_reply.started": "2023-05-30T16:19:06.576211Z"
    },
    "jupyter": {
     "outputs_hidden": false
    },
    "scrolled": true
   },
   "outputs": [],
   "source": [
    "# import paddle\n",
    "# import paddle.nn as nn\n",
    "# from paddle.io import Dataset\n",
    "\n",
    "# class SelfDefinedDataset(Dataset):\n",
    "#     def __init__(self, df, mode = 'train'):\n",
    "#         super(SelfDefinedDataset, self).__init__()\n",
    "#         self.df = df\n",
    "#         self.mode = mode\n",
    "\n",
    "#     def __getitem__(self, idx):\n",
    "#         if self.mode == 'predict':\n",
    "#             return (\n",
    "#                 self.df['user_id'].iloc[idx], \n",
    "#                 self.df['goods_id'].iloc[idx], \n",
    "#                 self.df['is_clk_max'].iloc[idx], self.df['is_like_max'].iloc[idx], \n",
    "#                 self.df['is_addcart_max'].iloc[idx],\n",
    "#             )\n",
    "#         else:\n",
    "#             return (\n",
    "#                 self.df['user_id'].iloc[idx], \n",
    "#                 self.df['goods_id'].iloc[idx], \n",
    "#                 self.df['is_clk_max'].iloc[idx], self.df['is_like_max'].iloc[idx], \n",
    "#                 self.df['is_addcart_max'].iloc[idx],\n",
    "#                 self.df['is_order_max'].iloc[idx]\n",
    "#             )\n",
    "\n",
    "#     def __len__(self):\n",
    "#         return len(self.df)"
   ]
  },
  {
   "cell_type": "code",
   "execution_count": 27,
   "metadata": {
    "collapsed": false,
    "execution": {
     "iopub.execute_input": "2023-05-31T05:01:56.596821Z",
     "iopub.status.busy": "2023-05-31T05:01:56.596420Z",
     "iopub.status.idle": "2023-05-31T05:01:57.094829Z",
     "shell.execute_reply": "2023-05-31T05:01:57.093905Z",
     "shell.execute_reply.started": "2023-05-31T05:01:56.596795Z"
    },
    "jupyter": {
     "outputs_hidden": false
    },
    "scrolled": true
   },
   "outputs": [],
   "source": [
    "train_feat_downsmaple = train_feat_downsmaple.sample(frac=1.0)\n",
    "\n",
    "traindataset = SelfDefinedDataset(train_feat_downsmaple.iloc[:-int(-0.7*len(train_feat_downsmaple))])\n",
    "train_loader = paddle.io.DataLoader(traindataset, batch_size = 128, shuffle = True)\n",
    "\n",
    "validdataset = SelfDefinedDataset(train_feat_downsmaple.iloc[-int(-0.7*len(train_feat_downsmaple)):])\n",
    "valid_loader = paddle.io.DataLoader(validdataset, batch_size = 128, shuffle = True)"
   ]
  },
  {
   "cell_type": "code",
   "execution_count": 28,
   "metadata": {
    "collapsed": false,
    "execution": {
     "iopub.execute_input": "2023-05-31T05:01:58.714986Z",
     "iopub.status.busy": "2023-05-31T05:01:58.714499Z",
     "iopub.status.idle": "2023-05-31T05:01:58.723345Z",
     "shell.execute_reply": "2023-05-31T05:01:58.722429Z",
     "shell.execute_reply.started": "2023-05-31T05:01:58.714955Z"
    },
    "jupyter": {
     "outputs_hidden": false
    },
    "scrolled": true
   },
   "outputs": [],
   "source": [
    "EMBEDDING_SIZE = 256\n",
    "\n",
    "# 定义深度学习模型\n",
    "class RecommenderNet(nn.Layer):\n",
    "    def __init__(self, num_users, num_goods, embedding_size, numeric_size):\n",
    "        super(RecommenderNet, self).__init__()\n",
    "        self.num_users = num_users\n",
    "        self.num_goods = num_goods\n",
    "        self.embedding_size = embedding_size\n",
    "\n",
    "        weight_attr_user = paddle.ParamAttr(\n",
    "            regularizer = paddle.regularizer.L2Decay(1e-6),\n",
    "            initializer = nn.initializer.KaimingNormal()\n",
    "            )\n",
    "        self.user_embedding = nn.Embedding(\n",
    "            num_users,\n",
    "            embedding_size,\n",
    "            weight_attr=weight_attr_user\n",
    "        )\n",
    "        \n",
    "        weight_attr_movie = paddle.ParamAttr(\n",
    "            regularizer = paddle.regularizer.L2Decay(1e-6),\n",
    "            initializer = nn.initializer.KaimingNormal()\n",
    "            )\n",
    "        self.goods_embedding = nn.Embedding(\n",
    "            num_goods,\n",
    "            embedding_size,\n",
    "            weight_attr=weight_attr_movie\n",
    "        )\n",
    "\n",
    "        self.linear = nn.Linear(\n",
    "            2 * embedding_size, 1\n",
    "        )\n",
    "        \n",
    "    def forward(self, data):\n",
    "        user, goods, feat = data[0], data[1], [data[idx] for idx in [2, 3,4]]\n",
    "        feat = paddle.stack(feat, 1).astype(paddle.float32)\n",
    "\n",
    "        user_vector = self.user_embedding(user)\n",
    "        goods_vector = self.goods_embedding(goods)\n",
    "        x = paddle.concat([user_vector, goods_vector], 1)\n",
    "        return self.linear(x)"
   ]
  },
  {
   "cell_type": "code",
   "execution_count": 29,
   "metadata": {
    "collapsed": false,
    "execution": {
     "iopub.execute_input": "2023-05-31T05:02:00.750714Z",
     "iopub.status.busy": "2023-05-31T05:02:00.750207Z",
     "iopub.status.idle": "2023-05-31T05:02:02.315578Z",
     "shell.execute_reply": "2023-05-31T05:02:02.314912Z",
     "shell.execute_reply.started": "2023-05-31T05:02:00.750687Z"
    },
    "jupyter": {
     "outputs_hidden": false
    },
    "scrolled": true
   },
   "outputs": [
    {
     "name": "stderr",
     "output_type": "stream",
     "text": [
      "W0531 13:02:00.754575   185 gpu_resources.cc:61] Please NOTE: device: 0, GPU Compute Capability: 8.0, Driver API Version: 11.2, Runtime API Version: 11.2\r\n",
      "W0531 13:02:00.757951   185 gpu_resources.cc:91] device: 0, cuDNN Version: 8.2.\r\n"
     ]
    }
   ],
   "source": [
    "# 定义模型损失函数、优化器和评价指标\n",
    "model = RecommenderNet(len(user_encode.classes_), len(goods_encode.classes_), 128, 3)\n",
    "optimizer = paddle.optimizer.Adam(parameters=model.parameters(), learning_rate=0.003)\n",
    "loss_fn = nn.BCEWithLogitsLoss()"
   ]
  },
  {
   "cell_type": "markdown",
   "metadata": {},
   "source": [
    "## 模型训练与预测"
   ]
  },
  {
   "cell_type": "code",
   "execution_count": 30,
   "metadata": {
    "execution": {
     "iopub.execute_input": "2023-05-31T05:02:03.971854Z",
     "iopub.status.busy": "2023-05-31T05:02:03.971557Z",
     "iopub.status.idle": "2023-05-31T05:03:58.633499Z",
     "shell.execute_reply": "2023-05-31T05:03:58.632752Z",
     "shell.execute_reply.started": "2023-05-31T05:02:03.971832Z"
    },
    "scrolled": true,
    "tags": []
   },
   "outputs": [
    {
     "name": "stdout",
     "output_type": "stream",
     "text": [
      "0 0.49239408233902415\r\n"
     ]
    }
   ],
   "source": [
    "# 模型训练\n",
    "Train_Loss = []\n",
    "\n",
    "for epoch in range(1):\n",
    "    model.train()\n",
    "    for i, data in enumerate(train_loader):\n",
    "        pred = model(data)\n",
    "        loss = loss_fn(data[-1].astype(paddle.float32), pred.flatten(), )\n",
    "        Train_Loss.append(loss.item())\n",
    "        loss.backward()\n",
    "        optimizer.step()\n",
    "        optimizer.clear_grad()\n",
    "\n",
    "    # 模型验证\n",
    "    Val_acc = []\n",
    "    model.eval()\n",
    "    with paddle.no_grad():\n",
    "        for i, data in enumerate(valid_loader):\n",
    "            pred = model(data)\n",
    "            Val_acc.append(((pred.flatten() > 0).astype(paddle.int64) == data[-1]).sum().item())\n",
    "\n",
    "    print(epoch, np.sum(Val_acc) / len(valid_loader.dataset))"
   ]
  },
  {
   "cell_type": "code",
   "execution_count": 31,
   "metadata": {
    "collapsed": false,
    "execution": {
     "iopub.execute_input": "2023-05-31T05:04:07.459624Z",
     "iopub.status.busy": "2023-05-31T05:04:07.459234Z",
     "iopub.status.idle": "2023-05-31T05:08:15.352652Z",
     "shell.execute_reply": "2023-05-31T05:08:15.351891Z",
     "shell.execute_reply.started": "2023-05-31T05:04:07.459599Z"
    },
    "jupyter": {
     "outputs_hidden": false
    },
    "scrolled": true,
    "tags": []
   },
   "outputs": [],
   "source": [
    "# test_valid_goods = test_valid_goods[test_valid_goods.isin(test_valid_goods)]\n",
    "\n",
    "test_feat_agg = []\n",
    "for user in testa_user['user_id'].values:\n",
    "    for goods in test_valid_goods:\n",
    "        test_feat_agg.append([user, goods])"
   ]
  },
  {
   "cell_type": "code",
   "execution_count": 32,
   "metadata": {
    "collapsed": false,
    "execution": {
     "iopub.execute_input": "2023-05-31T05:08:34.664349Z",
     "iopub.status.busy": "2023-05-31T05:08:34.663949Z",
     "iopub.status.idle": "2023-05-31T05:10:18.265320Z",
     "shell.execute_reply": "2023-05-31T05:10:18.264301Z",
     "shell.execute_reply.started": "2023-05-31T05:08:34.664324Z"
    },
    "jupyter": {
     "outputs_hidden": false
    },
    "scrolled": true,
    "tags": []
   },
   "outputs": [],
   "source": [
    "test_feat_agg = pd.DataFrame(test_feat_agg)\n",
    "test_feat_agg.columns = ['user_id', 'goods_id']"
   ]
  },
  {
   "cell_type": "code",
   "execution_count": 33,
   "metadata": {
    "collapsed": false,
    "execution": {
     "iopub.execute_input": "2023-05-31T05:10:26.011337Z",
     "iopub.status.busy": "2023-05-31T05:10:26.010905Z",
     "iopub.status.idle": "2023-05-31T05:12:23.283067Z",
     "shell.execute_reply": "2023-05-31T05:12:23.282097Z",
     "shell.execute_reply.started": "2023-05-31T05:10:26.011313Z"
    },
    "jupyter": {
     "outputs_hidden": false
    },
    "scrolled": true
   },
   "outputs": [],
   "source": [
    "test_feat_agg = pd.merge(test_feat_agg, train_agg_feat, on=['user_id', 'goods_id'])"
   ]
  },
  {
   "cell_type": "code",
   "execution_count": 34,
   "metadata": {
    "collapsed": false,
    "execution": {
     "iopub.execute_input": "2023-05-31T05:12:26.848202Z",
     "iopub.status.busy": "2023-05-31T05:12:26.847803Z",
     "iopub.status.idle": "2023-05-31T05:12:32.682684Z",
     "shell.execute_reply": "2023-05-31T05:12:32.681960Z",
     "shell.execute_reply.started": "2023-05-31T05:12:26.848178Z"
    },
    "jupyter": {
     "outputs_hidden": false
    },
    "scrolled": true
   },
   "outputs": [],
   "source": [
    "test_feat_agg['user_id'] = user_encode.transform(test_feat_agg['user_id'])\n",
    "test_feat_agg['goods_id'] = goods_encode.transform(test_feat_agg['goods_id'])"
   ]
  },
  {
   "cell_type": "code",
   "execution_count": null,
   "metadata": {
    "execution": {
     "iopub.status.busy": "2023-05-30T16:19:06.589392Z",
     "iopub.status.idle": "2023-05-30T16:19:06.589697Z",
     "shell.execute_reply": "2023-05-30T16:19:06.589577Z",
     "shell.execute_reply.started": "2023-05-30T16:19:06.589564Z"
    },
    "scrolled": true
   },
   "outputs": [],
   "source": [
    "test_feat_agg"
   ]
  },
  {
   "cell_type": "code",
   "execution_count": 35,
   "metadata": {
    "collapsed": false,
    "execution": {
     "iopub.execute_input": "2023-05-31T05:12:36.088187Z",
     "iopub.status.busy": "2023-05-31T05:12:36.087780Z",
     "iopub.status.idle": "2023-05-31T05:12:36.091800Z",
     "shell.execute_reply": "2023-05-31T05:12:36.091251Z",
     "shell.execute_reply.started": "2023-05-31T05:12:36.088159Z"
    },
    "jupyter": {
     "outputs_hidden": false
    },
    "scrolled": true
   },
   "outputs": [],
   "source": [
    "testdataset = SelfDefinedDataset(test_feat_agg)\n",
    "test_loader = paddle.io.DataLoader(testdataset, batch_size = 128, shuffle = False)"
   ]
  },
  {
   "cell_type": "code",
   "execution_count": 36,
   "metadata": {
    "collapsed": false,
    "execution": {
     "iopub.execute_input": "2023-05-31T05:12:38.141283Z",
     "iopub.status.busy": "2023-05-31T05:12:38.140814Z",
     "iopub.status.idle": "2023-05-31T05:12:42.032480Z",
     "shell.execute_reply": "2023-05-31T05:12:42.031345Z",
     "shell.execute_reply.started": "2023-05-31T05:12:38.141252Z"
    },
    "jupyter": {
     "outputs_hidden": false
    },
    "scrolled": true
   },
   "outputs": [],
   "source": [
    "model.eval()\n",
    "\n",
    "test_pred = []\n",
    "with paddle.no_grad():\n",
    "    for i, data in enumerate(test_loader):\n",
    "        pred = model(data)\n",
    "        test_pred += list((paddle.nn.functional.sigmoid(pred) > 0.5).numpy().reshape(-1))"
   ]
  },
  {
   "cell_type": "code",
   "execution_count": 37,
   "metadata": {
    "collapsed": false,
    "execution": {
     "iopub.execute_input": "2023-05-31T05:12:44.492427Z",
     "iopub.status.busy": "2023-05-31T05:12:44.491980Z",
     "iopub.status.idle": "2023-05-31T05:12:44.512602Z",
     "shell.execute_reply": "2023-05-31T05:12:44.511911Z",
     "shell.execute_reply.started": "2023-05-31T05:12:44.492399Z"
    },
    "jupyter": {
     "outputs_hidden": false
    },
    "scrolled": true
   },
   "outputs": [],
   "source": [
    "test_feat_agg['pred'] = test_pred"
   ]
  },
  {
   "cell_type": "code",
   "execution_count": 38,
   "metadata": {
    "collapsed": false,
    "execution": {
     "iopub.execute_input": "2023-05-31T05:12:46.811252Z",
     "iopub.status.busy": "2023-05-31T05:12:46.810765Z",
     "iopub.status.idle": "2023-05-31T05:12:46.824306Z",
     "shell.execute_reply": "2023-05-31T05:12:46.823597Z",
     "shell.execute_reply.started": "2023-05-31T05:12:46.811220Z"
    },
    "jupyter": {
     "outputs_hidden": false
    },
    "scrolled": true
   },
   "outputs": [],
   "source": [
    "test_feat_agg = test_feat_agg[test_feat_agg['pred']]"
   ]
  },
  {
   "cell_type": "code",
   "execution_count": 39,
   "metadata": {
    "collapsed": false,
    "execution": {
     "iopub.execute_input": "2023-05-31T05:12:50.010622Z",
     "iopub.status.busy": "2023-05-31T05:12:50.010179Z",
     "iopub.status.idle": "2023-05-31T05:12:50.198119Z",
     "shell.execute_reply": "2023-05-31T05:12:50.197265Z",
     "shell.execute_reply.started": "2023-05-31T05:12:50.010592Z"
    },
    "jupyter": {
     "outputs_hidden": false
    },
    "scrolled": true
   },
   "outputs": [
    {
     "name": "stderr",
     "output_type": "stream",
     "text": [
      "/opt/conda/envs/python35-paddle120-env/lib/python3.7/site-packages/ipykernel_launcher.py:1: SettingWithCopyWarning: \r\n",
      "A value is trying to be set on a copy of a slice from a DataFrame.\r\n",
      "Try using .loc[row_indexer,col_indexer] = value instead\r\n",
      "\r\n",
      "See the caveats in the documentation: https://pandas.pydata.org/pandas-docs/stable/user_guide/indexing.html#returning-a-view-versus-a-copy\r\n",
      "  \"\"\"Entry point for launching an IPython kernel.\r\n",
      "/opt/conda/envs/python35-paddle120-env/lib/python3.7/site-packages/ipykernel_launcher.py:2: SettingWithCopyWarning: \r\n",
      "A value is trying to be set on a copy of a slice from a DataFrame.\r\n",
      "Try using .loc[row_indexer,col_indexer] = value instead\r\n",
      "\r\n",
      "See the caveats in the documentation: https://pandas.pydata.org/pandas-docs/stable/user_guide/indexing.html#returning-a-view-versus-a-copy\r\n",
      "  \r\n"
     ]
    }
   ],
   "source": [
    "test_feat_agg['user_id'] = user_encode.inverse_transform(test_feat_agg['user_id'])\n",
    "test_feat_agg['goods_id'] = goods_encode.inverse_transform(test_feat_agg['goods_id'])"
   ]
  },
  {
   "cell_type": "code",
   "execution_count": 40,
   "metadata": {
    "collapsed": false,
    "execution": {
     "iopub.execute_input": "2023-05-31T05:12:52.735365Z",
     "iopub.status.busy": "2023-05-31T05:12:52.734869Z",
     "iopub.status.idle": "2023-05-31T05:12:52.828725Z",
     "shell.execute_reply": "2023-05-31T05:12:52.828022Z",
     "shell.execute_reply.started": "2023-05-31T05:12:52.735331Z"
    },
    "jupyter": {
     "outputs_hidden": false
    },
    "scrolled": true
   },
   "outputs": [],
   "source": [
    "test_feat_agg[['user_id', 'goods_id']].to_csv('u2i.csv', index=None, header=None)"
   ]
  },
  {
   "cell_type": "code",
   "execution_count": null,
   "metadata": {
    "scrolled": true
   },
   "outputs": [],
   "source": []
  }
 ],
 "metadata": {
  "kernelspec": {
   "display_name": "Python 3",
   "language": "python",
   "name": "py35-paddle1.2.0"
  },
  "language_info": {
   "codemirror_mode": {
    "name": "ipython",
    "version": 3
   },
   "file_extension": ".py",
   "mimetype": "text/x-python",
   "name": "python",
   "nbconvert_exporter": "python",
   "pygments_lexer": "ipython3",
   "version": "3.7.4"
  }
 },
 "nbformat": 4,
 "nbformat_minor": 4
}
